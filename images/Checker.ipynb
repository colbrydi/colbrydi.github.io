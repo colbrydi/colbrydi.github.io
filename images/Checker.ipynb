{
 "cells": [
  {
   "cell_type": "markdown",
   "id": "62eafc66-9eaf-4f37-b759-3e4d7c80bea1",
   "metadata": {},
   "source": [
    "<a href=\"https://colab.research.google.com/github/colbrydi/colbrydi.github.io/blob/master/images/Checker.ipynb\" target=\"_parent\"><img src=\"https://colab.research.google.com/assets/colab-badge.svg\" alt=\"Open In Colab\"/></a>"
   ]
  },
  {
   "cell_type": "markdown",
   "id": "1eee6fb4-1282-42da-8783-f71328f1443a",
   "metadata": {},
   "source": [
    "The following uses an answer checker used for instructors to verify a students progress without giving away the true answer. \n",
    "\n",
    "This notebook is being used for a family christmass game in 2024.\n",
    "\n",
    "Written by Dirk Colbry"
   ]
  },
  {
   "cell_type": "code",
   "execution_count": null,
   "id": "b3413dc2-1db2-44a6-b5d3-ed47bad13012",
   "metadata": {},
   "outputs": [],
   "source": [
    "import requests\n",
    "\n",
    "url = 'https://raw.githubusercontent.com/colbrydi/jupytercheck/master/answercheck.py'\n",
    "filename = 'answercheck.py'\n",
    "\n",
    "response = requests.get(url)\n",
    "\n",
    "with open(filename, 'wb') as file:\n",
    "    file.write(response.content)\n"
   ]
  },
  {
   "cell_type": "code",
   "execution_count": null,
   "id": "270d65bf-6339-4a14-aec1-b8274b61c794",
   "metadata": {},
   "outputs": [],
   "source": [
    "from answercheck import checkanswer\n",
    "\n",
    "import contextlib\n",
    "import io\n",
    "\n",
    "def noisy_function():\n",
    "    print(\"This is a noisy function!\")\n",
    "\n",
    "def test_answer(mystring, hashes):\n",
    "    correct = False\n",
    "    for hash in hashes:\n",
    "        try:\n",
    "            with contextlib.redirect_stdout(io.StringIO()):\n",
    "                checkanswer(mystring.upper(),hash);\n",
    "            correct=True\n",
    "            \n",
    "        except:\n",
    "            pass\n",
    "    if correct:\n",
    "       print(\"Answer seems to be correct\")\n",
    "    else:\n",
    "        print(\"Answer seems to be wrong\")"
   ]
  },
  {
   "cell_type": "code",
   "execution_count": null,
   "id": "ae296c5a-2908-4a2e-9ac7-1fba0199e425",
   "metadata": {},
   "outputs": [],
   "source": [
    "hashes = [\n",
    "    '5def6c6386b8c731c464d9b3e3e1d281',\n",
    "    '192058d1fbeed45b43153b1ef1843489',\n",
    "    'e2ed0f788ae9f65e06ce86d83fb7853e',\n",
    "    '614ae69be40a7379c6b7092a782bfc9c',\n",
    "    '8b9987b790b8bce5d09aba508483b41f',\n",
    "    'c8185ea3a643d90837b3ed59c54c68f0',\n",
    "    '25066fbfc31d542db7bb1cc40ee41a6b',\n",
    "    '05402661710c4315ce1a808548c63926'\n",
    "]"
   ]
  },
  {
   "cell_type": "code",
   "execution_count": null,
   "id": "a79d7823-b066-4166-b089-149fbb3570fd",
   "metadata": {},
   "outputs": [],
   "source": [
    "mystring = input()\n",
    "test_answer(mystring, hashes)"
   ]
  },
  {
   "cell_type": "markdown",
   "id": "ad9e5730-83c1-4963-97d5-feb30096d993",
   "metadata": {},
   "source": [
    "Hope you find this helpful :-)"
   ]
  }
 ],
 "metadata": {
  "kernelspec": {
   "display_name": "Python 3 (ipykernel)",
   "language": "python",
   "name": "python3"
  },
  "language_info": {
   "codemirror_mode": {
    "name": "ipython",
    "version": 3
   },
   "file_extension": ".py",
   "mimetype": "text/x-python",
   "name": "python",
   "nbconvert_exporter": "python",
   "pygments_lexer": "ipython3",
   "version": "3.11.7"
  }
 },
 "nbformat": 4,
 "nbformat_minor": 5
}
